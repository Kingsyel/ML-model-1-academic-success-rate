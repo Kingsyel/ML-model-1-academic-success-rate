{
 "cells": [
  {
   "cell_type": "code",
   "execution_count": 1,
   "id": "59ca9968",
   "metadata": {
    "_cell_guid": "b1076dfc-b9ad-4769-8c92-a6c4dae69d19",
    "_uuid": "8f2839f25d086af736a60e9eeb907d3b93b6e0e5",
    "execution": {
     "iopub.execute_input": "2024-10-09T15:57:18.031461Z",
     "iopub.status.busy": "2024-10-09T15:57:18.030390Z",
     "iopub.status.idle": "2024-10-09T15:57:19.054325Z",
     "shell.execute_reply": "2024-10-09T15:57:19.052966Z"
    },
    "papermill": {
     "duration": 1.039212,
     "end_time": "2024-10-09T15:57:19.057252",
     "exception": false,
     "start_time": "2024-10-09T15:57:18.018040",
     "status": "completed"
    },
    "tags": []
   },
   "outputs": [
    {
     "name": "stdout",
     "output_type": "stream",
     "text": [
      "/kaggle/input/playground-series-s4e6/sample_submission.csv\n",
      "/kaggle/input/playground-series-s4e6/train.csv\n",
      "/kaggle/input/playground-series-s4e6/test.csv\n"
     ]
    }
   ],
   "source": [
    "# This Python 3 environment comes with many helpful analytics libraries installed\n",
    "# It is defined by the kaggle/python Docker image: https://github.com/kaggle/docker-python\n",
    "# For example, here's several helpful packages to load\n",
    "\n",
    "import numpy as np # linear algebra\n",
    "import pandas as pd # data processing, CSV file I/O (e.g. pd.read_csv)\n",
    "\n",
    "# Input data files are available in the read-only \"../input/\" directory\n",
    "# For example, running this (by clicking run or pressing Shift+Enter) will list all files under the input directory\n",
    "\n",
    "import os\n",
    "for dirname, _, filenames in os.walk('/kaggle/input'):\n",
    "    for filename in filenames:\n",
    "        print(os.path.join(dirname, filename))\n",
    "\n",
    "# You can write up to 20GB to the current directory (/kaggle/working/) that gets preserved as output when you create a version using \"Save & Run All\" \n",
    "# You can also write temporary files to /kaggle/temp/, but they won't be saved outside of the current session"
   ]
  },
  {
   "cell_type": "code",
   "execution_count": 2,
   "id": "8db4c415",
   "metadata": {
    "execution": {
     "iopub.execute_input": "2024-10-09T15:57:19.073934Z",
     "iopub.status.busy": "2024-10-09T15:57:19.072700Z",
     "iopub.status.idle": "2024-10-09T15:57:19.496178Z",
     "shell.execute_reply": "2024-10-09T15:57:19.494837Z"
    },
    "papermill": {
     "duration": 0.43474,
     "end_time": "2024-10-09T15:57:19.498852",
     "exception": false,
     "start_time": "2024-10-09T15:57:19.064112",
     "status": "completed"
    },
    "tags": []
   },
   "outputs": [
    {
     "data": {
      "text/html": [
       "<div>\n",
       "<style scoped>\n",
       "    .dataframe tbody tr th:only-of-type {\n",
       "        vertical-align: middle;\n",
       "    }\n",
       "\n",
       "    .dataframe tbody tr th {\n",
       "        vertical-align: top;\n",
       "    }\n",
       "\n",
       "    .dataframe thead th {\n",
       "        text-align: right;\n",
       "    }\n",
       "</style>\n",
       "<table border=\"1\" class=\"dataframe\">\n",
       "  <thead>\n",
       "    <tr style=\"text-align: right;\">\n",
       "      <th></th>\n",
       "      <th>id</th>\n",
       "      <th>Marital status</th>\n",
       "      <th>Application mode</th>\n",
       "      <th>Application order</th>\n",
       "      <th>Course</th>\n",
       "      <th>Daytime/evening attendance</th>\n",
       "      <th>Previous qualification</th>\n",
       "      <th>Previous qualification (grade)</th>\n",
       "      <th>Nacionality</th>\n",
       "      <th>Mother's qualification</th>\n",
       "      <th>...</th>\n",
       "      <th>Curricular units 2nd sem (credited)</th>\n",
       "      <th>Curricular units 2nd sem (enrolled)</th>\n",
       "      <th>Curricular units 2nd sem (evaluations)</th>\n",
       "      <th>Curricular units 2nd sem (approved)</th>\n",
       "      <th>Curricular units 2nd sem (grade)</th>\n",
       "      <th>Curricular units 2nd sem (without evaluations)</th>\n",
       "      <th>Unemployment rate</th>\n",
       "      <th>Inflation rate</th>\n",
       "      <th>GDP</th>\n",
       "      <th>Target</th>\n",
       "    </tr>\n",
       "  </thead>\n",
       "  <tbody>\n",
       "    <tr>\n",
       "      <th>0</th>\n",
       "      <td>0</td>\n",
       "      <td>1</td>\n",
       "      <td>1</td>\n",
       "      <td>1</td>\n",
       "      <td>9238</td>\n",
       "      <td>1</td>\n",
       "      <td>1</td>\n",
       "      <td>126.0</td>\n",
       "      <td>1</td>\n",
       "      <td>1</td>\n",
       "      <td>...</td>\n",
       "      <td>0</td>\n",
       "      <td>6</td>\n",
       "      <td>7</td>\n",
       "      <td>6</td>\n",
       "      <td>12.428571</td>\n",
       "      <td>0</td>\n",
       "      <td>11.1</td>\n",
       "      <td>0.6</td>\n",
       "      <td>2.02</td>\n",
       "      <td>Graduate</td>\n",
       "    </tr>\n",
       "    <tr>\n",
       "      <th>1</th>\n",
       "      <td>1</td>\n",
       "      <td>1</td>\n",
       "      <td>17</td>\n",
       "      <td>1</td>\n",
       "      <td>9238</td>\n",
       "      <td>1</td>\n",
       "      <td>1</td>\n",
       "      <td>125.0</td>\n",
       "      <td>1</td>\n",
       "      <td>19</td>\n",
       "      <td>...</td>\n",
       "      <td>0</td>\n",
       "      <td>6</td>\n",
       "      <td>9</td>\n",
       "      <td>0</td>\n",
       "      <td>0.000000</td>\n",
       "      <td>0</td>\n",
       "      <td>11.1</td>\n",
       "      <td>0.6</td>\n",
       "      <td>2.02</td>\n",
       "      <td>Dropout</td>\n",
       "    </tr>\n",
       "    <tr>\n",
       "      <th>2</th>\n",
       "      <td>2</td>\n",
       "      <td>1</td>\n",
       "      <td>17</td>\n",
       "      <td>2</td>\n",
       "      <td>9254</td>\n",
       "      <td>1</td>\n",
       "      <td>1</td>\n",
       "      <td>137.0</td>\n",
       "      <td>1</td>\n",
       "      <td>3</td>\n",
       "      <td>...</td>\n",
       "      <td>0</td>\n",
       "      <td>6</td>\n",
       "      <td>0</td>\n",
       "      <td>0</td>\n",
       "      <td>0.000000</td>\n",
       "      <td>0</td>\n",
       "      <td>16.2</td>\n",
       "      <td>0.3</td>\n",
       "      <td>-0.92</td>\n",
       "      <td>Dropout</td>\n",
       "    </tr>\n",
       "    <tr>\n",
       "      <th>3</th>\n",
       "      <td>3</td>\n",
       "      <td>1</td>\n",
       "      <td>1</td>\n",
       "      <td>3</td>\n",
       "      <td>9500</td>\n",
       "      <td>1</td>\n",
       "      <td>1</td>\n",
       "      <td>131.0</td>\n",
       "      <td>1</td>\n",
       "      <td>19</td>\n",
       "      <td>...</td>\n",
       "      <td>0</td>\n",
       "      <td>8</td>\n",
       "      <td>11</td>\n",
       "      <td>7</td>\n",
       "      <td>12.820000</td>\n",
       "      <td>0</td>\n",
       "      <td>11.1</td>\n",
       "      <td>0.6</td>\n",
       "      <td>2.02</td>\n",
       "      <td>Enrolled</td>\n",
       "    </tr>\n",
       "    <tr>\n",
       "      <th>4</th>\n",
       "      <td>4</td>\n",
       "      <td>1</td>\n",
       "      <td>1</td>\n",
       "      <td>2</td>\n",
       "      <td>9500</td>\n",
       "      <td>1</td>\n",
       "      <td>1</td>\n",
       "      <td>132.0</td>\n",
       "      <td>1</td>\n",
       "      <td>19</td>\n",
       "      <td>...</td>\n",
       "      <td>0</td>\n",
       "      <td>7</td>\n",
       "      <td>12</td>\n",
       "      <td>6</td>\n",
       "      <td>12.933333</td>\n",
       "      <td>0</td>\n",
       "      <td>7.6</td>\n",
       "      <td>2.6</td>\n",
       "      <td>0.32</td>\n",
       "      <td>Graduate</td>\n",
       "    </tr>\n",
       "  </tbody>\n",
       "</table>\n",
       "<p>5 rows × 38 columns</p>\n",
       "</div>"
      ],
      "text/plain": [
       "   id  Marital status  Application mode  Application order  Course  \\\n",
       "0   0               1                 1                  1    9238   \n",
       "1   1               1                17                  1    9238   \n",
       "2   2               1                17                  2    9254   \n",
       "3   3               1                 1                  3    9500   \n",
       "4   4               1                 1                  2    9500   \n",
       "\n",
       "   Daytime/evening attendance  Previous qualification  \\\n",
       "0                           1                       1   \n",
       "1                           1                       1   \n",
       "2                           1                       1   \n",
       "3                           1                       1   \n",
       "4                           1                       1   \n",
       "\n",
       "   Previous qualification (grade)  Nacionality  Mother's qualification  ...  \\\n",
       "0                           126.0            1                       1  ...   \n",
       "1                           125.0            1                      19  ...   \n",
       "2                           137.0            1                       3  ...   \n",
       "3                           131.0            1                      19  ...   \n",
       "4                           132.0            1                      19  ...   \n",
       "\n",
       "   Curricular units 2nd sem (credited)  Curricular units 2nd sem (enrolled)  \\\n",
       "0                                    0                                    6   \n",
       "1                                    0                                    6   \n",
       "2                                    0                                    6   \n",
       "3                                    0                                    8   \n",
       "4                                    0                                    7   \n",
       "\n",
       "   Curricular units 2nd sem (evaluations)  \\\n",
       "0                                       7   \n",
       "1                                       9   \n",
       "2                                       0   \n",
       "3                                      11   \n",
       "4                                      12   \n",
       "\n",
       "   Curricular units 2nd sem (approved)  Curricular units 2nd sem (grade)  \\\n",
       "0                                    6                         12.428571   \n",
       "1                                    0                          0.000000   \n",
       "2                                    0                          0.000000   \n",
       "3                                    7                         12.820000   \n",
       "4                                    6                         12.933333   \n",
       "\n",
       "   Curricular units 2nd sem (without evaluations)  Unemployment rate  \\\n",
       "0                                               0               11.1   \n",
       "1                                               0               11.1   \n",
       "2                                               0               16.2   \n",
       "3                                               0               11.1   \n",
       "4                                               0                7.6   \n",
       "\n",
       "   Inflation rate   GDP    Target  \n",
       "0             0.6  2.02  Graduate  \n",
       "1             0.6  2.02   Dropout  \n",
       "2             0.3 -0.92   Dropout  \n",
       "3             0.6  2.02  Enrolled  \n",
       "4             2.6  0.32  Graduate  \n",
       "\n",
       "[5 rows x 38 columns]"
      ]
     },
     "execution_count": 2,
     "metadata": {},
     "output_type": "execute_result"
    }
   ],
   "source": [
    "df= pd.read_csv(\"/kaggle/input/playground-series-s4e6/train.csv\")\n",
    "df.head()"
   ]
  },
  {
   "cell_type": "markdown",
   "id": "75eac7ab",
   "metadata": {
    "papermill": {
     "duration": 0.007045,
     "end_time": "2024-10-09T15:57:19.513152",
     "exception": false,
     "start_time": "2024-10-09T15:57:19.506107",
     "status": "completed"
    },
    "tags": []
   },
   "source": [
    "Create the features(x) and the targets(y) to be used by the machine learning moddel from the provided data."
   ]
  },
  {
   "cell_type": "code",
   "execution_count": 3,
   "id": "f2702c05",
   "metadata": {
    "execution": {
     "iopub.execute_input": "2024-10-09T15:57:19.529198Z",
     "iopub.status.busy": "2024-10-09T15:57:19.528235Z",
     "iopub.status.idle": "2024-10-09T15:57:19.539726Z",
     "shell.execute_reply": "2024-10-09T15:57:19.538373Z"
    },
    "papermill": {
     "duration": 0.022391,
     "end_time": "2024-10-09T15:57:19.542414",
     "exception": false,
     "start_time": "2024-10-09T15:57:19.520023",
     "status": "completed"
    },
    "tags": []
   },
   "outputs": [],
   "source": [
    "x = df.drop([\"Target\", \"id\"], axis=1)\n",
    "y = df[\"Target\"]"
   ]
  },
  {
   "cell_type": "markdown",
   "id": "59dfd6a3",
   "metadata": {
    "papermill": {
     "duration": 0.006674,
     "end_time": "2024-10-09T15:57:19.556048",
     "exception": false,
     "start_time": "2024-10-09T15:57:19.549374",
     "status": "completed"
    },
    "tags": []
   },
   "source": [
    "Have a look at the columns on your features dataframe"
   ]
  },
  {
   "cell_type": "code",
   "execution_count": 4,
   "id": "13bcb714",
   "metadata": {
    "execution": {
     "iopub.execute_input": "2024-10-09T15:57:19.572189Z",
     "iopub.status.busy": "2024-10-09T15:57:19.571784Z",
     "iopub.status.idle": "2024-10-09T15:57:19.579705Z",
     "shell.execute_reply": "2024-10-09T15:57:19.578549Z"
    },
    "papermill": {
     "duration": 0.01893,
     "end_time": "2024-10-09T15:57:19.582354",
     "exception": false,
     "start_time": "2024-10-09T15:57:19.563424",
     "status": "completed"
    },
    "tags": []
   },
   "outputs": [
    {
     "data": {
      "text/plain": [
       "Index(['Marital status', 'Application mode', 'Application order', 'Course',\n",
       "       'Daytime/evening attendance', 'Previous qualification',\n",
       "       'Previous qualification (grade)', 'Nacionality',\n",
       "       'Mother's qualification', 'Father's qualification',\n",
       "       'Mother's occupation', 'Father's occupation', 'Admission grade',\n",
       "       'Displaced', 'Educational special needs', 'Debtor',\n",
       "       'Tuition fees up to date', 'Gender', 'Scholarship holder',\n",
       "       'Age at enrollment', 'International',\n",
       "       'Curricular units 1st sem (credited)',\n",
       "       'Curricular units 1st sem (enrolled)',\n",
       "       'Curricular units 1st sem (evaluations)',\n",
       "       'Curricular units 1st sem (approved)',\n",
       "       'Curricular units 1st sem (grade)',\n",
       "       'Curricular units 1st sem (without evaluations)',\n",
       "       'Curricular units 2nd sem (credited)',\n",
       "       'Curricular units 2nd sem (enrolled)',\n",
       "       'Curricular units 2nd sem (evaluations)',\n",
       "       'Curricular units 2nd sem (approved)',\n",
       "       'Curricular units 2nd sem (grade)',\n",
       "       'Curricular units 2nd sem (without evaluations)', 'Unemployment rate',\n",
       "       'Inflation rate', 'GDP'],\n",
       "      dtype='object')"
      ]
     },
     "execution_count": 4,
     "metadata": {},
     "output_type": "execute_result"
    }
   ],
   "source": [
    "x.columns"
   ]
  },
  {
   "cell_type": "markdown",
   "id": "3f62d7dd",
   "metadata": {
    "papermill": {
     "duration": 0.006975,
     "end_time": "2024-10-09T15:57:19.596527",
     "exception": false,
     "start_time": "2024-10-09T15:57:19.589552",
     "status": "completed"
    },
    "tags": []
   },
   "source": [
    "Import the necessary modules to help you with your feature engineering and to transform your data."
   ]
  },
  {
   "cell_type": "code",
   "execution_count": 5,
   "id": "4a10a643",
   "metadata": {
    "execution": {
     "iopub.execute_input": "2024-10-09T15:57:19.612966Z",
     "iopub.status.busy": "2024-10-09T15:57:19.612537Z",
     "iopub.status.idle": "2024-10-09T15:57:21.256027Z",
     "shell.execute_reply": "2024-10-09T15:57:21.254733Z"
    },
    "papermill": {
     "duration": 1.654952,
     "end_time": "2024-10-09T15:57:21.258813",
     "exception": false,
     "start_time": "2024-10-09T15:57:19.603861",
     "status": "completed"
    },
    "tags": []
   },
   "outputs": [],
   "source": [
    "import pandas as pd\n",
    "from sklearn.model_selection import train_test_split\n",
    "from sklearn.preprocessing import StandardScaler, OneHotEncoder\n",
    "from sklearn.impute import SimpleImputer\n",
    "from sklearn.compose import ColumnTransformer\n",
    "from sklearn.pipeline import Pipeline\n",
    "\n",
    "# Define the feature engineering function\n",
    "def feature_engineering(x):\n",
    "    if not isinstance(x, pd.DataFrame):\n",
    "        train_df=pd.DataFrame(x)\n",
    "    #if not isinstance(test_df, pd.DataFrame):\n",
    "        #test_df = pd.DataFrame(test_df)\n",
    "        \n",
    "    # Categorical columns\n",
    "    categorical_cols = [\n",
    "        'Marital status', 'Application mode', 'Course', 'Daytime/evening attendance',\n",
    "        'Previous qualification', 'Nacionality', 'Mother\\'s qualification', \n",
    "        'Father\\'s qualification', 'Mother\\'s occupation', 'Father\\'s occupation',\n",
    "        'Displaced', 'Educational special needs', 'Debtor', 'Tuition fees up to date', \n",
    "        'Gender', 'Scholarship holder', 'International'\n",
    "    ]\n",
    "    \n",
    "    # Numerical columns\n",
    "    numerical_cols = [\n",
    "        'Application order', 'Previous qualification (grade)', 'Admission grade', \n",
    "        'Age at enrollment', 'Curricular units 1st sem (credited)', \n",
    "        'Curricular units 1st sem (enrolled)', 'Curricular units 1st sem (evaluations)', \n",
    "        'Curricular units 1st sem (approved)', 'Curricular units 1st sem (grade)', \n",
    "        'Curricular units 1st sem (without evaluations)', 'Curricular units 2nd sem (credited)', \n",
    "        'Curricular units 2nd sem (enrolled)', 'Curricular units 2nd sem (evaluations)', \n",
    "        'Curricular units 2nd sem (approved)', 'Curricular units 2nd sem (grade)', \n",
    "        'Curricular units 2nd sem (without evaluations)', 'Unemployment rate', \n",
    "        'Inflation rate', 'GDP'\n",
    "    ]\n",
    "    \n",
    "    # Preprocessing for categorical data\n",
    "    categorical_transformer = Pipeline(steps=[\n",
    "        ('imputer', SimpleImputer(strategy='most_frequent')),\n",
    "        ('encoder', OneHotEncoder(handle_unknown='ignore'))\n",
    "    ])\n",
    "    \n",
    "    # Preprocessing for numerical data\n",
    "    numerical_transformer = Pipeline(steps=[\n",
    "        ('imputer', SimpleImputer(strategy='mean')),\n",
    "        ('scaler', StandardScaler())\n",
    "    ])\n",
    "    \n",
    "    # Combining both preprocessing pipelines\n",
    "    preprocessor = ColumnTransformer(\n",
    "        transformers=[\n",
    "            ('num', numerical_transformer, numerical_cols),\n",
    "            ('cat', categorical_transformer, categorical_cols)\n",
    "        ])\n",
    "    \n",
    "    return x, preprocessor"
   ]
  },
  {
   "cell_type": "markdown",
   "id": "bf72dc39",
   "metadata": {
    "papermill": {
     "duration": 0.007733,
     "end_time": "2024-10-09T15:57:21.276453",
     "exception": false,
     "start_time": "2024-10-09T15:57:21.268720",
     "status": "completed"
    },
    "tags": []
   },
   "source": [
    "Split your data into training and testing sets."
   ]
  },
  {
   "cell_type": "code",
   "execution_count": 6,
   "id": "7b6fc30b",
   "metadata": {
    "execution": {
     "iopub.execute_input": "2024-10-09T15:57:21.292843Z",
     "iopub.status.busy": "2024-10-09T15:57:21.292409Z",
     "iopub.status.idle": "2024-10-09T15:57:21.334548Z",
     "shell.execute_reply": "2024-10-09T15:57:21.333395Z"
    },
    "papermill": {
     "duration": 0.053775,
     "end_time": "2024-10-09T15:57:21.337213",
     "exception": false,
     "start_time": "2024-10-09T15:57:21.283438",
     "status": "completed"
    },
    "tags": []
   },
   "outputs": [],
   "source": [
    "from sklearn.model_selection import train_test_split\n",
    "\n",
    "x_train, x_test, y_train, y_test = train_test_split(x, y, train_size=0.1, random_state=42)\n"
   ]
  },
  {
   "cell_type": "markdown",
   "id": "f98a182c",
   "metadata": {
    "papermill": {
     "duration": 0.006739,
     "end_time": "2024-10-09T15:57:21.350965",
     "exception": false,
     "start_time": "2024-10-09T15:57:21.344226",
     "status": "completed"
    },
    "tags": []
   },
   "source": [
    "Use the function you created to transform your data, and fit the training data"
   ]
  },
  {
   "cell_type": "code",
   "execution_count": 7,
   "id": "d421e127",
   "metadata": {
    "execution": {
     "iopub.execute_input": "2024-10-09T15:57:21.366540Z",
     "iopub.status.busy": "2024-10-09T15:57:21.366181Z",
     "iopub.status.idle": "2024-10-09T15:57:21.371369Z",
     "shell.execute_reply": "2024-10-09T15:57:21.370092Z"
    },
    "papermill": {
     "duration": 0.015719,
     "end_time": "2024-10-09T15:57:21.373729",
     "exception": false,
     "start_time": "2024-10-09T15:57:21.358010",
     "status": "completed"
    },
    "tags": []
   },
   "outputs": [],
   "source": [
    "x_train_processed, preprocessor = feature_engineering(x)"
   ]
  },
  {
   "cell_type": "code",
   "execution_count": 8,
   "id": "35798990",
   "metadata": {
    "execution": {
     "iopub.execute_input": "2024-10-09T15:57:21.389425Z",
     "iopub.status.busy": "2024-10-09T15:57:21.389062Z",
     "iopub.status.idle": "2024-10-09T15:57:21.831053Z",
     "shell.execute_reply": "2024-10-09T15:57:21.829790Z"
    },
    "papermill": {
     "duration": 0.452902,
     "end_time": "2024-10-09T15:57:21.833674",
     "exception": false,
     "start_time": "2024-10-09T15:57:21.380772",
     "status": "completed"
    },
    "tags": []
   },
   "outputs": [],
   "source": [
    "# Fit the transformer on the training data\n",
    "preprocessor.fit(x_train)\n",
    "    \n",
    "# Transform both training and testing data\n",
    "train_df_processed = preprocessor.transform(x_train)\n",
    "test_df_processed = preprocessor.transform(x_test)"
   ]
  },
  {
   "cell_type": "code",
   "execution_count": 9,
   "id": "de3f61b0",
   "metadata": {
    "execution": {
     "iopub.execute_input": "2024-10-09T15:57:21.849403Z",
     "iopub.status.busy": "2024-10-09T15:57:21.849052Z",
     "iopub.status.idle": "2024-10-09T15:57:21.854062Z",
     "shell.execute_reply": "2024-10-09T15:57:21.852859Z"
    },
    "papermill": {
     "duration": 0.015662,
     "end_time": "2024-10-09T15:57:21.856447",
     "exception": false,
     "start_time": "2024-10-09T15:57:21.840785",
     "status": "completed"
    },
    "tags": []
   },
   "outputs": [],
   "source": [
    "from sklearn.metrics import accuracy_score, roc_auc_score\n",
    "#from lightgbm import LGBMClassifier\n",
    "#model = LGBMClassifier()\n",
    "#model.fit(x_train, y_train)\n",
    "#accuracy_score(y_test, model.predict(x_test))"
   ]
  },
  {
   "cell_type": "markdown",
   "id": "e439a35a",
   "metadata": {
    "papermill": {
     "duration": 0.006784,
     "end_time": "2024-10-09T15:57:21.870362",
     "exception": false,
     "start_time": "2024-10-09T15:57:21.863578",
     "status": "completed"
    },
    "tags": []
   },
   "source": [
    "Create a simple machine learning model and train it on the training data. Using accuracy as the metrics, test the accuracy to see how it will perform in the real world."
   ]
  },
  {
   "cell_type": "code",
   "execution_count": 10,
   "id": "52ff4bcf",
   "metadata": {
    "execution": {
     "iopub.execute_input": "2024-10-09T15:57:21.887947Z",
     "iopub.status.busy": "2024-10-09T15:57:21.887009Z",
     "iopub.status.idle": "2024-10-09T15:57:28.273752Z",
     "shell.execute_reply": "2024-10-09T15:57:28.272557Z"
    },
    "papermill": {
     "duration": 6.399056,
     "end_time": "2024-10-09T15:57:28.276387",
     "exception": false,
     "start_time": "2024-10-09T15:57:21.877331",
     "status": "completed"
    },
    "tags": []
   },
   "outputs": [
    {
     "data": {
      "text/plain": [
       "0.8201896409020285"
      ]
     },
     "execution_count": 10,
     "metadata": {},
     "output_type": "execute_result"
    }
   ],
   "source": [
    "from sklearn.ensemble import GradientBoostingClassifier\n",
    "model = GradientBoostingClassifier()\n",
    "model.fit(x_train, y_train)\n",
    "accuracy_score(y_test, model.predict(x_test))"
   ]
  },
  {
   "cell_type": "code",
   "execution_count": 11,
   "id": "770e2516",
   "metadata": {
    "execution": {
     "iopub.execute_input": "2024-10-09T15:57:28.292843Z",
     "iopub.status.busy": "2024-10-09T15:57:28.292346Z",
     "iopub.status.idle": "2024-10-09T15:57:28.298483Z",
     "shell.execute_reply": "2024-10-09T15:57:28.297030Z"
    },
    "papermill": {
     "duration": 0.017515,
     "end_time": "2024-10-09T15:57:28.301215",
     "exception": false,
     "start_time": "2024-10-09T15:57:28.283700",
     "status": "completed"
    },
    "tags": []
   },
   "outputs": [],
   "source": [
    "#import tensorflow as tf\n",
    "#model2 = tf.keras.Sequential([tf.keras.layers.Dense(128, input_shape= None, activation= 'relu'),\n",
    "           #tf.keras.layers.Dense(64, activation= 'relu'),\n",
    "           #tf.keras.layers.Dense(32, activation= 'relu'),\n",
    "           #tf.keras.layers.Dense(16, activation= 'relu'),\n",
    "           #tf.keras.layers.Dropout(0.2),\n",
    "           #tf.keras.layers.Flatten(),\n",
    "           #tf.keras.layers.Dense(3, activation= 'softmax')\n",
    "           #)]"
   ]
  },
  {
   "cell_type": "code",
   "execution_count": 12,
   "id": "70dd4014",
   "metadata": {
    "execution": {
     "iopub.execute_input": "2024-10-09T15:57:28.318055Z",
     "iopub.status.busy": "2024-10-09T15:57:28.317073Z",
     "iopub.status.idle": "2024-10-09T15:57:28.322237Z",
     "shell.execute_reply": "2024-10-09T15:57:28.321007Z"
    },
    "papermill": {
     "duration": 0.016229,
     "end_time": "2024-10-09T15:57:28.324684",
     "exception": false,
     "start_time": "2024-10-09T15:57:28.308455",
     "status": "completed"
    },
    "tags": []
   },
   "outputs": [],
   "source": [
    "#model2.compile(optimizer= 'adam', loss= 'sparse_categorical_crossentropy', metrics= ['accuracy'])\"\"\""
   ]
  },
  {
   "cell_type": "code",
   "execution_count": 13,
   "id": "ec287c9f",
   "metadata": {
    "execution": {
     "iopub.execute_input": "2024-10-09T15:57:28.341675Z",
     "iopub.status.busy": "2024-10-09T15:57:28.340638Z",
     "iopub.status.idle": "2024-10-09T15:57:28.345589Z",
     "shell.execute_reply": "2024-10-09T15:57:28.344440Z"
    },
    "papermill": {
     "duration": 0.016294,
     "end_time": "2024-10-09T15:57:28.348459",
     "exception": false,
     "start_time": "2024-10-09T15:57:28.332165",
     "status": "completed"
    },
    "tags": []
   },
   "outputs": [],
   "source": [
    "#model2.summary"
   ]
  },
  {
   "cell_type": "code",
   "execution_count": 14,
   "id": "ed0ef655",
   "metadata": {
    "execution": {
     "iopub.execute_input": "2024-10-09T15:57:28.365279Z",
     "iopub.status.busy": "2024-10-09T15:57:28.364847Z",
     "iopub.status.idle": "2024-10-09T15:57:28.370036Z",
     "shell.execute_reply": "2024-10-09T15:57:28.368782Z"
    },
    "papermill": {
     "duration": 0.016567,
     "end_time": "2024-10-09T15:57:28.372528",
     "exception": false,
     "start_time": "2024-10-09T15:57:28.355961",
     "status": "completed"
    },
    "tags": []
   },
   "outputs": [],
   "source": [
    "#history= model.fit(x_train, y_train, epochs= 100)\n"
   ]
  },
  {
   "cell_type": "code",
   "execution_count": 15,
   "id": "223bc902",
   "metadata": {
    "execution": {
     "iopub.execute_input": "2024-10-09T15:57:28.388907Z",
     "iopub.status.busy": "2024-10-09T15:57:28.388465Z",
     "iopub.status.idle": "2024-10-09T15:57:28.394111Z",
     "shell.execute_reply": "2024-10-09T15:57:28.392880Z"
    },
    "papermill": {
     "duration": 0.016642,
     "end_time": "2024-10-09T15:57:28.396648",
     "exception": false,
     "start_time": "2024-10-09T15:57:28.380006",
     "status": "completed"
    },
    "tags": []
   },
   "outputs": [],
   "source": [
    "def model_summary(model, x_test, y_test):\n",
    "    print(\"Model Parameters:\")\n",
    "    print(model.get_params())\n",
    "    print(\"\\nFeature Importances:\")\n",
    "    print(model.feature_importances_)\n",
    "   "
   ]
  },
  {
   "cell_type": "code",
   "execution_count": 16,
   "id": "4bf1a682",
   "metadata": {
    "execution": {
     "iopub.execute_input": "2024-10-09T15:57:28.414230Z",
     "iopub.status.busy": "2024-10-09T15:57:28.412879Z",
     "iopub.status.idle": "2024-10-09T15:57:28.421814Z",
     "shell.execute_reply": "2024-10-09T15:57:28.420518Z"
    },
    "papermill": {
     "duration": 0.020612,
     "end_time": "2024-10-09T15:57:28.424586",
     "exception": false,
     "start_time": "2024-10-09T15:57:28.403974",
     "status": "completed"
    },
    "tags": []
   },
   "outputs": [
    {
     "name": "stdout",
     "output_type": "stream",
     "text": [
      "Model Parameters:\n",
      "{'ccp_alpha': 0.0, 'criterion': 'friedman_mse', 'init': None, 'learning_rate': 0.1, 'loss': 'log_loss', 'max_depth': 3, 'max_features': None, 'max_leaf_nodes': None, 'min_impurity_decrease': 0.0, 'min_samples_leaf': 1, 'min_samples_split': 2, 'min_weight_fraction_leaf': 0.0, 'n_estimators': 100, 'n_iter_no_change': None, 'random_state': None, 'subsample': 1.0, 'tol': 0.0001, 'validation_fraction': 0.1, 'verbose': 0, 'warm_start': False}\n",
      "\n",
      "Feature Importances:\n",
      "[8.51789741e-04 2.97863888e-03 1.59955467e-03 7.60082081e-03\n",
      " 9.65623711e-04 9.29337679e-04 2.42414235e-03 2.15101353e-04\n",
      " 1.54715311e-03 2.12626051e-03 4.33157696e-03 2.93307384e-03\n",
      " 4.50025756e-03 4.19357066e-04 1.39680703e-04 2.88524774e-03\n",
      " 4.11243294e-02 1.84615330e-03 1.69712017e-02 8.26073678e-03\n",
      " 2.10149340e-06 9.07316051e-04 7.03204318e-03 2.41675344e-02\n",
      " 4.40816637e-02 1.14066942e-02 8.18789683e-04 1.64529844e-03\n",
      " 1.75717294e-02 4.43380544e-02 6.95157756e-01 3.94995151e-02\n",
      " 1.31330929e-03 2.81407196e-03 1.03209022e-03 3.56199441e-03]\n"
     ]
    }
   ],
   "source": [
    "model_summary(model, x_test, y_test)"
   ]
  },
  {
   "cell_type": "code",
   "execution_count": 17,
   "id": "125f90b6",
   "metadata": {
    "execution": {
     "iopub.execute_input": "2024-10-09T15:57:28.442262Z",
     "iopub.status.busy": "2024-10-09T15:57:28.441510Z",
     "iopub.status.idle": "2024-10-09T15:57:28.663962Z",
     "shell.execute_reply": "2024-10-09T15:57:28.662737Z"
    },
    "papermill": {
     "duration": 0.234476,
     "end_time": "2024-10-09T15:57:28.666732",
     "exception": false,
     "start_time": "2024-10-09T15:57:28.432256",
     "status": "completed"
    },
    "tags": []
   },
   "outputs": [],
   "source": [
    "test = pd.read_csv(\"/kaggle/input/playground-series-s4e6/test.csv\")\n",
    "submission = pd.read_csv(\"/kaggle/input/playground-series-s4e6/sample_submission.csv\")\n"
   ]
  },
  {
   "cell_type": "code",
   "execution_count": 18,
   "id": "8b39eeeb",
   "metadata": {
    "execution": {
     "iopub.execute_input": "2024-10-09T15:57:28.683318Z",
     "iopub.status.busy": "2024-10-09T15:57:28.682910Z",
     "iopub.status.idle": "2024-10-09T15:57:28.705031Z",
     "shell.execute_reply": "2024-10-09T15:57:28.703692Z"
    },
    "papermill": {
     "duration": 0.033174,
     "end_time": "2024-10-09T15:57:28.707554",
     "exception": false,
     "start_time": "2024-10-09T15:57:28.674380",
     "status": "completed"
    },
    "tags": []
   },
   "outputs": [
    {
     "data": {
      "text/html": [
       "<div>\n",
       "<style scoped>\n",
       "    .dataframe tbody tr th:only-of-type {\n",
       "        vertical-align: middle;\n",
       "    }\n",
       "\n",
       "    .dataframe tbody tr th {\n",
       "        vertical-align: top;\n",
       "    }\n",
       "\n",
       "    .dataframe thead th {\n",
       "        text-align: right;\n",
       "    }\n",
       "</style>\n",
       "<table border=\"1\" class=\"dataframe\">\n",
       "  <thead>\n",
       "    <tr style=\"text-align: right;\">\n",
       "      <th></th>\n",
       "      <th>id</th>\n",
       "      <th>Marital status</th>\n",
       "      <th>Application mode</th>\n",
       "      <th>Application order</th>\n",
       "      <th>Course</th>\n",
       "      <th>Daytime/evening attendance</th>\n",
       "      <th>Previous qualification</th>\n",
       "      <th>Previous qualification (grade)</th>\n",
       "      <th>Nacionality</th>\n",
       "      <th>Mother's qualification</th>\n",
       "      <th>...</th>\n",
       "      <th>Curricular units 1st sem (without evaluations)</th>\n",
       "      <th>Curricular units 2nd sem (credited)</th>\n",
       "      <th>Curricular units 2nd sem (enrolled)</th>\n",
       "      <th>Curricular units 2nd sem (evaluations)</th>\n",
       "      <th>Curricular units 2nd sem (approved)</th>\n",
       "      <th>Curricular units 2nd sem (grade)</th>\n",
       "      <th>Curricular units 2nd sem (without evaluations)</th>\n",
       "      <th>Unemployment rate</th>\n",
       "      <th>Inflation rate</th>\n",
       "      <th>GDP</th>\n",
       "    </tr>\n",
       "  </thead>\n",
       "  <tbody>\n",
       "    <tr>\n",
       "      <th>0</th>\n",
       "      <td>76518</td>\n",
       "      <td>1</td>\n",
       "      <td>1</td>\n",
       "      <td>1</td>\n",
       "      <td>9500</td>\n",
       "      <td>1</td>\n",
       "      <td>1</td>\n",
       "      <td>141.0</td>\n",
       "      <td>1</td>\n",
       "      <td>3</td>\n",
       "      <td>...</td>\n",
       "      <td>0</td>\n",
       "      <td>0</td>\n",
       "      <td>8</td>\n",
       "      <td>0</td>\n",
       "      <td>0</td>\n",
       "      <td>0.000000</td>\n",
       "      <td>0</td>\n",
       "      <td>13.9</td>\n",
       "      <td>-0.3</td>\n",
       "      <td>0.79</td>\n",
       "    </tr>\n",
       "    <tr>\n",
       "      <th>1</th>\n",
       "      <td>76519</td>\n",
       "      <td>1</td>\n",
       "      <td>1</td>\n",
       "      <td>1</td>\n",
       "      <td>9238</td>\n",
       "      <td>1</td>\n",
       "      <td>1</td>\n",
       "      <td>128.0</td>\n",
       "      <td>1</td>\n",
       "      <td>1</td>\n",
       "      <td>...</td>\n",
       "      <td>0</td>\n",
       "      <td>0</td>\n",
       "      <td>6</td>\n",
       "      <td>6</td>\n",
       "      <td>6</td>\n",
       "      <td>13.500000</td>\n",
       "      <td>0</td>\n",
       "      <td>11.1</td>\n",
       "      <td>0.6</td>\n",
       "      <td>2.02</td>\n",
       "    </tr>\n",
       "    <tr>\n",
       "      <th>2</th>\n",
       "      <td>76520</td>\n",
       "      <td>1</td>\n",
       "      <td>1</td>\n",
       "      <td>1</td>\n",
       "      <td>9238</td>\n",
       "      <td>1</td>\n",
       "      <td>1</td>\n",
       "      <td>118.0</td>\n",
       "      <td>1</td>\n",
       "      <td>1</td>\n",
       "      <td>...</td>\n",
       "      <td>0</td>\n",
       "      <td>0</td>\n",
       "      <td>6</td>\n",
       "      <td>11</td>\n",
       "      <td>5</td>\n",
       "      <td>11.000000</td>\n",
       "      <td>0</td>\n",
       "      <td>15.5</td>\n",
       "      <td>2.8</td>\n",
       "      <td>-4.06</td>\n",
       "    </tr>\n",
       "    <tr>\n",
       "      <th>3</th>\n",
       "      <td>76521</td>\n",
       "      <td>1</td>\n",
       "      <td>44</td>\n",
       "      <td>1</td>\n",
       "      <td>9147</td>\n",
       "      <td>1</td>\n",
       "      <td>39</td>\n",
       "      <td>130.0</td>\n",
       "      <td>1</td>\n",
       "      <td>1</td>\n",
       "      <td>...</td>\n",
       "      <td>0</td>\n",
       "      <td>3</td>\n",
       "      <td>8</td>\n",
       "      <td>14</td>\n",
       "      <td>5</td>\n",
       "      <td>11.000000</td>\n",
       "      <td>0</td>\n",
       "      <td>8.9</td>\n",
       "      <td>1.4</td>\n",
       "      <td>3.51</td>\n",
       "    </tr>\n",
       "    <tr>\n",
       "      <th>4</th>\n",
       "      <td>76522</td>\n",
       "      <td>1</td>\n",
       "      <td>39</td>\n",
       "      <td>1</td>\n",
       "      <td>9670</td>\n",
       "      <td>1</td>\n",
       "      <td>1</td>\n",
       "      <td>110.0</td>\n",
       "      <td>1</td>\n",
       "      <td>1</td>\n",
       "      <td>...</td>\n",
       "      <td>0</td>\n",
       "      <td>0</td>\n",
       "      <td>6</td>\n",
       "      <td>9</td>\n",
       "      <td>4</td>\n",
       "      <td>10.666667</td>\n",
       "      <td>2</td>\n",
       "      <td>7.6</td>\n",
       "      <td>2.6</td>\n",
       "      <td>0.32</td>\n",
       "    </tr>\n",
       "  </tbody>\n",
       "</table>\n",
       "<p>5 rows × 37 columns</p>\n",
       "</div>"
      ],
      "text/plain": [
       "      id  Marital status  Application mode  Application order  Course  \\\n",
       "0  76518               1                 1                  1    9500   \n",
       "1  76519               1                 1                  1    9238   \n",
       "2  76520               1                 1                  1    9238   \n",
       "3  76521               1                44                  1    9147   \n",
       "4  76522               1                39                  1    9670   \n",
       "\n",
       "   Daytime/evening attendance  Previous qualification  \\\n",
       "0                           1                       1   \n",
       "1                           1                       1   \n",
       "2                           1                       1   \n",
       "3                           1                      39   \n",
       "4                           1                       1   \n",
       "\n",
       "   Previous qualification (grade)  Nacionality  Mother's qualification  ...  \\\n",
       "0                           141.0            1                       3  ...   \n",
       "1                           128.0            1                       1  ...   \n",
       "2                           118.0            1                       1  ...   \n",
       "3                           130.0            1                       1  ...   \n",
       "4                           110.0            1                       1  ...   \n",
       "\n",
       "   Curricular units 1st sem (without evaluations)  \\\n",
       "0                                               0   \n",
       "1                                               0   \n",
       "2                                               0   \n",
       "3                                               0   \n",
       "4                                               0   \n",
       "\n",
       "   Curricular units 2nd sem (credited)  Curricular units 2nd sem (enrolled)  \\\n",
       "0                                    0                                    8   \n",
       "1                                    0                                    6   \n",
       "2                                    0                                    6   \n",
       "3                                    3                                    8   \n",
       "4                                    0                                    6   \n",
       "\n",
       "   Curricular units 2nd sem (evaluations)  \\\n",
       "0                                       0   \n",
       "1                                       6   \n",
       "2                                      11   \n",
       "3                                      14   \n",
       "4                                       9   \n",
       "\n",
       "   Curricular units 2nd sem (approved)  Curricular units 2nd sem (grade)  \\\n",
       "0                                    0                          0.000000   \n",
       "1                                    6                         13.500000   \n",
       "2                                    5                         11.000000   \n",
       "3                                    5                         11.000000   \n",
       "4                                    4                         10.666667   \n",
       "\n",
       "   Curricular units 2nd sem (without evaluations)  Unemployment rate  \\\n",
       "0                                               0               13.9   \n",
       "1                                               0               11.1   \n",
       "2                                               0               15.5   \n",
       "3                                               0                8.9   \n",
       "4                                               2                7.6   \n",
       "\n",
       "   Inflation rate   GDP  \n",
       "0            -0.3  0.79  \n",
       "1             0.6  2.02  \n",
       "2             2.8 -4.06  \n",
       "3             1.4  3.51  \n",
       "4             2.6  0.32  \n",
       "\n",
       "[5 rows x 37 columns]"
      ]
     },
     "execution_count": 18,
     "metadata": {},
     "output_type": "execute_result"
    }
   ],
   "source": [
    "test.head()"
   ]
  },
  {
   "cell_type": "code",
   "execution_count": 19,
   "id": "8484514a",
   "metadata": {
    "execution": {
     "iopub.execute_input": "2024-10-09T15:57:28.726048Z",
     "iopub.status.busy": "2024-10-09T15:57:28.724718Z",
     "iopub.status.idle": "2024-10-09T15:57:29.221821Z",
     "shell.execute_reply": "2024-10-09T15:57:29.220520Z"
    },
    "papermill": {
     "duration": 0.509026,
     "end_time": "2024-10-09T15:57:29.224606",
     "exception": false,
     "start_time": "2024-10-09T15:57:28.715580",
     "status": "completed"
    },
    "tags": []
   },
   "outputs": [],
   "source": [
    "\n",
    "test,preprocessor = feature_engineering(test)\n",
    "x_train = preprocessor.fit_transform(x)\n",
    "x_test = preprocessor.transform(test)\n"
   ]
  },
  {
   "cell_type": "code",
   "execution_count": 20,
   "id": "d397b6d2",
   "metadata": {
    "execution": {
     "iopub.execute_input": "2024-10-09T15:57:29.242705Z",
     "iopub.status.busy": "2024-10-09T15:57:29.241689Z",
     "iopub.status.idle": "2024-10-09T15:59:31.193217Z",
     "shell.execute_reply": "2024-10-09T15:59:31.191698Z"
    },
    "papermill": {
     "duration": 121.963611,
     "end_time": "2024-10-09T15:59:31.196145",
     "exception": false,
     "start_time": "2024-10-09T15:57:29.232534",
     "status": "completed"
    },
    "tags": []
   },
   "outputs": [],
   "source": [
    "model.fit(x_train, y)\n",
    "prediction = model.predict(x_test)\n",
    "submission[\"Target\"] = prediction\n",
    "\n",
    "submission.to_csv(\"submission.csv\", index=False)"
   ]
  },
  {
   "cell_type": "code",
   "execution_count": 21,
   "id": "0cbfe364",
   "metadata": {
    "execution": {
     "iopub.execute_input": "2024-10-09T15:59:31.214517Z",
     "iopub.status.busy": "2024-10-09T15:59:31.214126Z",
     "iopub.status.idle": "2024-10-09T15:59:31.224978Z",
     "shell.execute_reply": "2024-10-09T15:59:31.223733Z"
    },
    "papermill": {
     "duration": 0.023422,
     "end_time": "2024-10-09T15:59:31.227819",
     "exception": false,
     "start_time": "2024-10-09T15:59:31.204397",
     "status": "completed"
    },
    "tags": []
   },
   "outputs": [
    {
     "data": {
      "text/html": [
       "<div>\n",
       "<style scoped>\n",
       "    .dataframe tbody tr th:only-of-type {\n",
       "        vertical-align: middle;\n",
       "    }\n",
       "\n",
       "    .dataframe tbody tr th {\n",
       "        vertical-align: top;\n",
       "    }\n",
       "\n",
       "    .dataframe thead th {\n",
       "        text-align: right;\n",
       "    }\n",
       "</style>\n",
       "<table border=\"1\" class=\"dataframe\">\n",
       "  <thead>\n",
       "    <tr style=\"text-align: right;\">\n",
       "      <th></th>\n",
       "      <th>id</th>\n",
       "      <th>Target</th>\n",
       "    </tr>\n",
       "  </thead>\n",
       "  <tbody>\n",
       "    <tr>\n",
       "      <th>0</th>\n",
       "      <td>76518</td>\n",
       "      <td>Dropout</td>\n",
       "    </tr>\n",
       "    <tr>\n",
       "      <th>1</th>\n",
       "      <td>76519</td>\n",
       "      <td>Graduate</td>\n",
       "    </tr>\n",
       "    <tr>\n",
       "      <th>2</th>\n",
       "      <td>76520</td>\n",
       "      <td>Graduate</td>\n",
       "    </tr>\n",
       "    <tr>\n",
       "      <th>3</th>\n",
       "      <td>76521</td>\n",
       "      <td>Enrolled</td>\n",
       "    </tr>\n",
       "    <tr>\n",
       "      <th>4</th>\n",
       "      <td>76522</td>\n",
       "      <td>Enrolled</td>\n",
       "    </tr>\n",
       "  </tbody>\n",
       "</table>\n",
       "</div>"
      ],
      "text/plain": [
       "      id    Target\n",
       "0  76518   Dropout\n",
       "1  76519  Graduate\n",
       "2  76520  Graduate\n",
       "3  76521  Enrolled\n",
       "4  76522  Enrolled"
      ]
     },
     "execution_count": 21,
     "metadata": {},
     "output_type": "execute_result"
    }
   ],
   "source": [
    "submission.head()"
   ]
  },
  {
   "cell_type": "code",
   "execution_count": 22,
   "id": "d2daf283",
   "metadata": {
    "execution": {
     "iopub.execute_input": "2024-10-09T15:59:31.248711Z",
     "iopub.status.busy": "2024-10-09T15:59:31.248308Z",
     "iopub.status.idle": "2024-10-09T15:59:31.259356Z",
     "shell.execute_reply": "2024-10-09T15:59:31.257926Z"
    },
    "papermill": {
     "duration": 0.024639,
     "end_time": "2024-10-09T15:59:31.262185",
     "exception": false,
     "start_time": "2024-10-09T15:59:31.237546",
     "status": "completed"
    },
    "tags": []
   },
   "outputs": [
    {
     "data": {
      "text/html": [
       "<div>\n",
       "<style scoped>\n",
       "    .dataframe tbody tr th:only-of-type {\n",
       "        vertical-align: middle;\n",
       "    }\n",
       "\n",
       "    .dataframe tbody tr th {\n",
       "        vertical-align: top;\n",
       "    }\n",
       "\n",
       "    .dataframe thead th {\n",
       "        text-align: right;\n",
       "    }\n",
       "</style>\n",
       "<table border=\"1\" class=\"dataframe\">\n",
       "  <thead>\n",
       "    <tr style=\"text-align: right;\">\n",
       "      <th></th>\n",
       "      <th>id</th>\n",
       "      <th>Target</th>\n",
       "    </tr>\n",
       "  </thead>\n",
       "  <tbody>\n",
       "    <tr>\n",
       "      <th>51007</th>\n",
       "      <td>127525</td>\n",
       "      <td>Dropout</td>\n",
       "    </tr>\n",
       "    <tr>\n",
       "      <th>51008</th>\n",
       "      <td>127526</td>\n",
       "      <td>Dropout</td>\n",
       "    </tr>\n",
       "    <tr>\n",
       "      <th>51009</th>\n",
       "      <td>127527</td>\n",
       "      <td>Dropout</td>\n",
       "    </tr>\n",
       "    <tr>\n",
       "      <th>51010</th>\n",
       "      <td>127528</td>\n",
       "      <td>Dropout</td>\n",
       "    </tr>\n",
       "    <tr>\n",
       "      <th>51011</th>\n",
       "      <td>127529</td>\n",
       "      <td>Dropout</td>\n",
       "    </tr>\n",
       "  </tbody>\n",
       "</table>\n",
       "</div>"
      ],
      "text/plain": [
       "           id   Target\n",
       "51007  127525  Dropout\n",
       "51008  127526  Dropout\n",
       "51009  127527  Dropout\n",
       "51010  127528  Dropout\n",
       "51011  127529  Dropout"
      ]
     },
     "execution_count": 22,
     "metadata": {},
     "output_type": "execute_result"
    }
   ],
   "source": [
    "submission.tail()"
   ]
  },
  {
   "cell_type": "code",
   "execution_count": 23,
   "id": "51f115f1",
   "metadata": {
    "execution": {
     "iopub.execute_input": "2024-10-09T15:59:31.281771Z",
     "iopub.status.busy": "2024-10-09T15:59:31.281284Z",
     "iopub.status.idle": "2024-10-09T15:59:31.308787Z",
     "shell.execute_reply": "2024-10-09T15:59:31.307547Z"
    },
    "papermill": {
     "duration": 0.040417,
     "end_time": "2024-10-09T15:59:31.311354",
     "exception": false,
     "start_time": "2024-10-09T15:59:31.270937",
     "status": "completed"
    },
    "tags": []
   },
   "outputs": [
    {
     "data": {
      "text/plain": [
       "['my_model.pkl']"
      ]
     },
     "execution_count": 23,
     "metadata": {},
     "output_type": "execute_result"
    }
   ],
   "source": [
    "#saving my first ml model\n",
    "# For a scikit-learn model\n",
    "import joblib\n",
    "joblib.dump(model, 'my_model.pkl')"
   ]
  }
 ],
 "metadata": {
  "kaggle": {
   "accelerator": "none",
   "dataSources": [
    {
     "databundleVersionId": 8710574,
     "sourceId": 73290,
     "sourceType": "competition"
    }
   ],
   "dockerImageVersionId": 30746,
   "isGpuEnabled": false,
   "isInternetEnabled": false,
   "language": "python",
   "sourceType": "notebook"
  },
  "kernelspec": {
   "display_name": "Python 3",
   "language": "python",
   "name": "python3"
  },
  "language_info": {
   "codemirror_mode": {
    "name": "ipython",
    "version": 3
   },
   "file_extension": ".py",
   "mimetype": "text/x-python",
   "name": "python",
   "nbconvert_exporter": "python",
   "pygments_lexer": "ipython3",
   "version": "3.10.13"
  },
  "papermill": {
   "default_parameters": {},
   "duration": 137.506466,
   "end_time": "2024-10-09T15:59:31.942323",
   "environment_variables": {},
   "exception": null,
   "input_path": "__notebook__.ipynb",
   "output_path": "__notebook__.ipynb",
   "parameters": {},
   "start_time": "2024-10-09T15:57:14.435857",
   "version": "2.5.0"
  }
 },
 "nbformat": 4,
 "nbformat_minor": 5
}
